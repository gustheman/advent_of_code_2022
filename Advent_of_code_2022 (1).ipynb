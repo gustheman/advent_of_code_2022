{
  "nbformat": 4,
  "nbformat_minor": 0,
  "metadata": {
    "colab": {
      "private_outputs": true,
      "provenance": [],
      "collapsed_sections": [
        "kEmFjmUs71S3",
        "759BD4Y7GxkT"
      ],
      "toc_visible": true
    },
    "kernelspec": {
      "name": "python3",
      "display_name": "Python 3"
    },
    "language_info": {
      "name": "python"
    }
  },
  "cells": [
    {
      "cell_type": "markdown",
      "source": [
        "#Advenct of code 2022\n",
        "\n",
        "These are all my soltions for the [Advent Of Code 2022](https://adventofcode.com/2022)"
      ],
      "metadata": {
        "id": "euJoEOlPq4dv"
      }
    },
    {
      "cell_type": "markdown",
      "source": [
        "##Quick Setup\n",
        "\n",
        "These functions, file and variables are used in all the solutions\n",
        "\n",
        "Run this cell before anything else.\n",
        "\n",
        "For each problem, copy the input into one of the crated files (input.txt or input_test.txt) and run the specific problem"
      ],
      "metadata": {
        "id": "aY64Oep0Gg4p"
      }
    },
    {
      "cell_type": "code",
      "source": [
        "def read_lines(file_path):\n",
        "  with open(file_path) as f:\n",
        "    lines = [l.strip() for l in f.readlines()]\n",
        "  return lines\n",
        "\n",
        "def read_lines_no_strip(file_path):\n",
        "  with open(file_path) as f:\n",
        "    lines = [l for l in f.readlines()]\n",
        "  return lines\n",
        "\n",
        "!echo \"\" > input_test.txt\n",
        "!echo \"\" > input.txt\n",
        "\n",
        "input_path_test = \"/content/input_test.txt\"\n",
        "input_path = \"/content/input.txt\""
      ],
      "metadata": {
        "id": "48ksNZY6YQCM"
      },
      "execution_count": null,
      "outputs": []
    },
    {
      "cell_type": "markdown",
      "source": [
        "##Problem 1: number of callories"
      ],
      "metadata": {
        "id": "zfOcDtSAq7FT"
      }
    },
    {
      "cell_type": "code",
      "execution_count": null,
      "metadata": {
        "id": "5YM_IvvKq3U5"
      },
      "outputs": [],
      "source": [
        "# part 1\n",
        "def read_input():\n",
        "  fp = \"/content/p1a/input.txt\"\n",
        "  with open(fp) as f:\n",
        "    lines = f.readlines()\n",
        "  return lines\n",
        "\n",
        "lines = read_input()\n",
        "\n",
        "max_callories = []\n",
        "current_callories = 0\n",
        "for l in lines:\n",
        "  l = l.strip()\n",
        "  if not l:\n",
        "    max_callories.append(current_callories)\n",
        "    current_callories = 0\n",
        "    continue\n",
        "\n",
        "  current_callories += int(l)\n",
        "  # if current_callories > max_callories:\n",
        "  #   max_callories = current_callories\n",
        "\n",
        "if current_callories > 0:\n",
        "  max_callories.append(current_callories)\n",
        "\n",
        "max_callories = sorted(max_callories)\n",
        "print(max_callories[-1] + max_callories[-2] + max_callories[-3])\n",
        "\n",
        "# part 1\n"
      ]
    },
    {
      "cell_type": "markdown",
      "source": [
        "##Problem 2: Rock Paper Scissors\n"
      ],
      "metadata": {
        "id": "kEmFjmUs71S3"
      }
    },
    {
      "cell_type": "markdown",
      "source": [
        "###Part 1\n",
        "X for Rock, Y for Paper, and Z for Scissors\n",
        "\n",
        "A for Rock, B for Paper, and C for Scissors\n",
        "\n",
        "1 for Rock, 2 for Paper, and 3 for Scissors\n",
        "\n",
        "A Y\n",
        "B X\n",
        "C Z\n",
        "\n",
        "(8 + 1 + 6) = 15\n",
        "\n",
        "###Part 2\n",
        "\n",
        "X -> lose\n",
        "\n",
        "Y -> draw\n",
        "\n",
        "Z -> win"
      ],
      "metadata": {
        "id": "J9SGm7KDtdBD"
      }
    },
    {
      "cell_type": "code",
      "source": [
        "wins = [\"A Y\", \"B Z\", \"C X\"]\n",
        "lose = [\"A Z\", \"B X\", \"C Y\"]\n",
        "# draw = [\"A Z\", \"B X\", \"C Y\"]\n",
        "points = {\n",
        "    \"X\": 1,\n",
        "    \"Y\": 2,\n",
        "    \"Z\": 3,\n",
        "    \"A\": 1,\n",
        "    \"B\": 2,\n",
        "    \"C\": 3,\n",
        "}\n",
        "\n",
        "to_win = {\n",
        "    \"A\": \"Y\",\n",
        "    \"B\": \"Z\",\n",
        "    \"C\": \"X\",\n",
        "}\n",
        "\n",
        "to_lose = {\n",
        "    \"A\": \"Z\",\n",
        "    \"B\": \"X\",\n",
        "    \"C\": \"Y\",\n",
        "}\n",
        "\n",
        "to_draw = {\n",
        "    \"A\": \"X\",\n",
        "    \"B\": \"Y\",\n",
        "    \"C\": \"Z\",\n",
        "}\n",
        "\n",
        "def calculate_points(play):\n",
        "\n",
        "  mp = play[2]\n",
        "  # print(play, mp)\n",
        "  r = points[mp]\n",
        "  if play in wins:\n",
        "    r += 6\n",
        "  elif play in lose:\n",
        "    r += 0\n",
        "  else:\n",
        "    r += 3\n",
        "  return r\n",
        "\n",
        "def calculate_points_p2(play):\n",
        "\n",
        "  mp = play[2]\n",
        "  # print(play, mp)\n",
        "  r = points[mp]\n",
        "  if mp == \"Z\":\n",
        "    play = f\"{play[0]} {to_win[play[0]]}\"\n",
        "  elif mp == \"X\":\n",
        "    play = f\"{play[0]} {to_lose[play[0]]}\"\n",
        "  else:\n",
        "    play = f\"{play[0]} {to_draw[play[0]]}\"\n",
        "\n",
        "  return calculate_points(play)\n",
        "\n",
        "lines = read_lines(\"/content/intput.txt\")\n",
        "\n",
        "total = 0\n",
        "for l in lines:\n",
        "  if l:\n",
        "    c = calculate_points_p2(l.strip())\n",
        "    total += c\n",
        "    # print(l, c)\n",
        "\n",
        "print(total)"
      ],
      "metadata": {
        "id": "jEwmY6gnrjGW"
      },
      "execution_count": null,
      "outputs": []
    },
    {
      "cell_type": "markdown",
      "source": [
        "##Problem 3: Rucksack Reorganization\n"
      ],
      "metadata": {
        "id": "759BD4Y7GxkT"
      }
    },
    {
      "cell_type": "markdown",
      "source": [
        "Lowercase item types a through z have priorities 1 through 26.\n",
        "\n",
        "Uppercase item types A through Z have priorities 27 through 52."
      ],
      "metadata": {
        "id": "otIwMOjBtTU_"
      }
    },
    {
      "cell_type": "code",
      "source": [
        "print(ord(\"A\"))\n",
        "print(ord(\"a\"))\n",
        "\n",
        "def convert_char_to_priority(char):\n",
        "  v = ord(char)\n",
        "  if v >= 97:\n",
        "    return v - 96\n",
        "  else:\n",
        "    return v - 65 + 27\n",
        "\n",
        "# print(convert_char_to_priority(\"a\"))\n",
        "# print(convert_char_to_priority(\"z\"))\n",
        "# print(convert_char_to_priority(\"A\"))\n",
        "# print(convert_char_to_priority(\"Z\"))\n",
        "\n",
        "def get_intersection(p1, p2):\n",
        "  char = set(p1).intersection(p2)\n",
        "  # print(part1, part2, char)\n",
        "  return list(char)\n",
        "\n",
        "def find_intersection(rucksack):\n",
        "  size = int(len(rucksack)/2)\n",
        "  part1 = rucksack[:size]\n",
        "  part2 = rucksack[size:]\n",
        "  return get_intersection(part1, part2)[0]\n",
        "\n",
        "\n",
        "# lines = read_lines(\"/content/input_test.txt\")\n",
        "lines = read_lines(\"/content/input.txt\")\n",
        "\n",
        "#part 1\n",
        "# total = 0\n",
        "# for l in lines:\n",
        "#   char = find_intersection(l)\n",
        "#   value = convert_char_to_priority(char)\n",
        "#   total += value\n",
        "#   # print(char, value)\n",
        "\n",
        "# part 2\n",
        "total = 0\n",
        "for i in range(0, len(lines), 3):\n",
        "  l1 = lines[i]\n",
        "  l2 = lines[i+1]\n",
        "  l3 = lines[i+2]\n",
        "  char1 = get_intersection(l1, l2)\n",
        "  char2 = get_intersection(l1, l3)\n",
        "  badge = get_intersection(char1, char2)[0]\n",
        "  # print(badge)\n",
        "  value = convert_char_to_priority(badge)\n",
        "  total += value\n",
        "\n",
        "print(total)"
      ],
      "metadata": {
        "id": "m2agKMHDG08f"
      },
      "execution_count": null,
      "outputs": []
    },
    {
      "cell_type": "markdown",
      "source": [
        "##Problem 4: Camp Cleanup\n",
        "\n"
      ],
      "metadata": {
        "id": "4GFM5SCU8eJJ"
      }
    },
    {
      "cell_type": "code",
      "source": [
        "input_path = \"/content/input_test.txt\"\n",
        "input_path = \"/content/input.txt\"\n",
        "lines = read_lines(input_path)\n",
        "\n",
        "def parse_line(l):\n",
        "  elves = l.split(\",\")\n",
        "  mm1 = [int(i) for i in elves[0].split(\"-\")]\n",
        "  mm2 = [int(i) for i in elves[1].split(\"-\")]\n",
        "  return mm1, mm2\n",
        "\n",
        "total = 0\n",
        "for line in lines:\n",
        "  e1, e2 = parse_line(line)\n",
        "  if e1[0] <= e2[0] and e1[1] >= e2[1]:\n",
        "    total += 1\n",
        "  elif e2[0] <= e1[0] and e2[1] >= e1[1]:\n",
        "    total += 1\n",
        "  # print(e1, e2)\n",
        "\n",
        "print(total)"
      ],
      "metadata": {
        "id": "mduZYrbXItQZ"
      },
      "execution_count": null,
      "outputs": []
    },
    {
      "cell_type": "markdown",
      "source": [
        "part 2"
      ],
      "metadata": {
        "id": "ailEVaMdAEkQ"
      }
    },
    {
      "cell_type": "code",
      "source": [
        "input_path = \"/content/input_test.txt\"\n",
        "input_path = \"/content/input.txt\"\n",
        "lines = read_lines(input_path)\n",
        "\n",
        "total = 0\n",
        "for line in lines:\n",
        "  e1, e2 = parse_line(line)\n",
        "  if e1[0] <= e2[0] <= e1[1] or e1[0] <= e2[1] <= e1[1]:\n",
        "    total += 1\n",
        "  elif e2[0] <= e1[0] <= e2[1] or e2[0] <= e1[1] <= e2[1]:\n",
        "    total += 1\n",
        "  # print(e1, e2)\n",
        "\n",
        "print(total)"
      ],
      "metadata": {
        "id": "KlqV3Wdu9rTh"
      },
      "execution_count": null,
      "outputs": []
    },
    {
      "cell_type": "markdown",
      "source": [
        "##Problem 5: Supply Stacks\n",
        "\n"
      ],
      "metadata": {
        "id": "rQwns2lhX9y0"
      }
    },
    {
      "cell_type": "code",
      "source": [
        "lines = read_lines_no_strip(input_path)\n",
        "\n",
        "search = True\n",
        "i = 0\n",
        "\n",
        "piles = []\n",
        "num_piles = 0\n",
        "\n",
        "while search:\n",
        "  if(not lines[i].strip()):\n",
        "    search = False\n",
        "    continue\n",
        "\n",
        "  line = lines[i].rstrip('\\n')#.split(\" \")\n",
        "\n",
        "  if line[1] == \"1\":\n",
        "    search = False\n",
        "    continue\n",
        "\n",
        "  line = line.replace(\"    \", \"[]\").replace(\"][\", \"] [\").split(\" \")\n",
        "  if not num_piles:\n",
        "    num_piles = len(line)\n",
        "    piles = [[] for i in range(num_piles)]\n",
        "    # print(piles, num_piles)\n",
        "\n",
        "  for j, c in enumerate(line):\n",
        "    if c != \"[]\":\n",
        "      print(c)\n",
        "      piles[j].insert(0, c[1:-1])\n",
        "\n",
        "  print(line)\n",
        "  i += 1\n",
        "\n",
        "print(piles)\n",
        "i_empty_line = i\n",
        "moves = lines[i_empty_line +2:]\n",
        "\n",
        "# part 1 instruction\n",
        "# for m in moves:\n",
        "#   m = m.strip()\n",
        "#   m = m.split(\" \")\n",
        "#   print(m[1], m[3], m[5])\n",
        "#   num_moves = int(m[1])\n",
        "#   ori = int(m[3]) - 1\n",
        "#   dest = int(m[5]) - 1\n",
        "#   for i in range(num_moves):\n",
        "#     piles[dest].append(piles[ori].pop())\n",
        "#   print(piles)\n",
        "\n",
        "# part 2 instructions\n",
        "for m in moves:\n",
        "  m = m.strip()\n",
        "  m = m.split(\" \")\n",
        "  print(m[1], m[3], m[5])\n",
        "  num_moves = int(m[1])\n",
        "  ori = int(m[3]) - 1\n",
        "  dest = int(m[5]) - 1\n",
        "  # for i in range(num_moves):\n",
        "  to_move = piles[ori][-num_moves:]\n",
        "  piles[ori] = piles[ori][:-num_moves]\n",
        "  # print(to_move)\n",
        "  piles[dest].extend(to_move)\n",
        "  # print(piles)\n",
        "\n",
        "final = [p[-1] for p in piles]\n",
        "print(\"\".join(final))"
      ],
      "metadata": {
        "id": "m5yAkHPH_6G-"
      },
      "execution_count": null,
      "outputs": []
    },
    {
      "cell_type": "code",
      "source": [],
      "metadata": {
        "id": "ECulOG0hZX_h"
      },
      "execution_count": null,
      "outputs": []
    }
  ]
}